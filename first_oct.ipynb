{
  "nbformat": 4,
  "nbformat_minor": 0,
  "metadata": {
    "colab": {
      "name": "first_oct.ipynb",
      "provenance": [],
      "authorship_tag": "ABX9TyPiA6H1iXrlQR6mXK9yX+bL",
      "include_colab_link": true
    },
    "kernelspec": {
      "name": "python3",
      "display_name": "Python 3"
    },
    "language_info": {
      "name": "python"
    }
  },
  "cells": [
    {
      "cell_type": "markdown",
      "metadata": {
        "id": "view-in-github",
        "colab_type": "text"
      },
      "source": [
        "<a href=\"https://colab.research.google.com/github/AbhishekYadavZ3/Python/blob/main/first_oct.ipynb\" target=\"_parent\"><img src=\"https://colab.research.google.com/assets/colab-badge.svg\" alt=\"Open In Colab\"/></a>"
      ]
    },
    {
      "cell_type": "code",
      "metadata": {
        "colab": {
          "base_uri": "https://localhost:8080/"
        },
        "id": "Z7SSm6Nzdt7t",
        "outputId": "3e4fc72e-4e78-443a-b207-3c763e357bf6"
      },
      "source": [
        "print(\"Hello\")"
      ],
      "execution_count": null,
      "outputs": [
        {
          "output_type": "stream",
          "name": "stdout",
          "text": [
            "Hello\n"
          ]
        }
      ]
    },
    {
      "cell_type": "code",
      "metadata": {
        "id": "96vtPxcydyhA",
        "colab": {
          "base_uri": "https://localhost:8080/"
        },
        "outputId": "21930930-4eaf-43b1-c9a8-1b8a964827a1"
      },
      "source": [
        "2+2"
      ],
      "execution_count": 1,
      "outputs": [
        {
          "output_type": "execute_result",
          "data": {
            "text/plain": [
              "4"
            ]
          },
          "metadata": {},
          "execution_count": 1
        }
      ]
    },
    {
      "cell_type": "code",
      "metadata": {
        "colab": {
          "base_uri": "https://localhost:8080/"
        },
        "id": "a6YA17aHDTjg",
        "outputId": "c3e2c368-55de-49a4-d25b-844548a69cf0"
      },
      "source": [
        "(5 - 1) * ((7 + 1) / (3 - 1))"
      ],
      "execution_count": 2,
      "outputs": [
        {
          "output_type": "execute_result",
          "data": {
            "text/plain": [
              "16.0"
            ]
          },
          "metadata": {},
          "execution_count": 2
        }
      ]
    },
    {
      "cell_type": "code",
      "metadata": {
        "id": "ntY2GTSGENDc",
        "outputId": "4d463069-dcb5-4808-d631-6928d23b520b",
        "colab": {
          "base_uri": "https://localhost:8080/"
        }
      },
      "source": [
        "48565878 * 578453"
      ],
      "execution_count": 3,
      "outputs": [
        {
          "output_type": "execute_result",
          "data": {
            "text/plain": [
              "28093077826734"
            ]
          },
          "metadata": {},
          "execution_count": 3
        }
      ]
    },
    {
      "cell_type": "code",
      "metadata": {
        "id": "YSLrppCQFcpL",
        "outputId": "19a8fb6d-bf40-43cf-d21a-27022ffea883",
        "colab": {
          "base_uri": "https://localhost:8080/"
        }
      },
      "source": [
        "34**10"
      ],
      "execution_count": 4,
      "outputs": [
        {
          "output_type": "execute_result",
          "data": {
            "text/plain": [
              "2064377754059776"
            ]
          },
          "metadata": {},
          "execution_count": 4
        }
      ]
    },
    {
      "cell_type": "code",
      "metadata": {
        "id": "8HtmdexhFgZP",
        "outputId": "a01c1f21-1225-4835-b6b1-46f4e5a678ac",
        "colab": {
          "base_uri": "https://localhost:8080/",
          "height": 35
        }
      },
      "source": [
        "'Abhishek' + 'Yadav'"
      ],
      "execution_count": 5,
      "outputs": [
        {
          "output_type": "execute_result",
          "data": {
            "application/vnd.google.colaboratory.intrinsic+json": {
              "type": "string"
            },
            "text/plain": [
              "'AbhishekYadav'"
            ]
          },
          "metadata": {},
          "execution_count": 5
        }
      ]
    },
    {
      "cell_type": "code",
      "metadata": {
        "id": "ZzK2QTS6KDod",
        "outputId": "dcd8e8ca-462f-4739-9225-ab98ac099aa8",
        "colab": {
          "base_uri": "https://localhost:8080/",
          "height": 162
        }
      },
      "source": [
        "\"ABhishek\"+4"
      ],
      "execution_count": 6,
      "outputs": [
        {
          "output_type": "error",
          "ename": "TypeError",
          "evalue": "ignored",
          "traceback": [
            "\u001b[0;31m---------------------------------------------------------------------------\u001b[0m",
            "\u001b[0;31mTypeError\u001b[0m                                 Traceback (most recent call last)",
            "\u001b[0;32m<ipython-input-6-cf3c6968c370>\u001b[0m in \u001b[0;36m<module>\u001b[0;34m()\u001b[0m\n\u001b[0;32m----> 1\u001b[0;31m \u001b[0;34m\"ABhishek\"\u001b[0m\u001b[0;34m+\u001b[0m\u001b[0;36m4\u001b[0m\u001b[0;34m\u001b[0m\u001b[0;34m\u001b[0m\u001b[0m\n\u001b[0m",
            "\u001b[0;31mTypeError\u001b[0m: can only concatenate str (not \"int\") to str"
          ]
        }
      ]
    },
    {
      "cell_type": "code",
      "metadata": {
        "id": "2_Pk7k-UKGuY",
        "outputId": "5a1fae2b-3e5d-4623-b1d6-5c127d94bfed",
        "colab": {
          "base_uri": "https://localhost:8080/",
          "height": 35
        }
      },
      "source": [
        "\"Abhishek\" * 2"
      ],
      "execution_count": 7,
      "outputs": [
        {
          "output_type": "execute_result",
          "data": {
            "application/vnd.google.colaboratory.intrinsic+json": {
              "type": "string"
            },
            "text/plain": [
              "'AbhishekAbhishek'"
            ]
          },
          "metadata": {},
          "execution_count": 7
        }
      ]
    },
    {
      "cell_type": "code",
      "metadata": {
        "id": "FaDTY1fMMaEq",
        "outputId": "0babe651-06de-4e66-d416-6aed09aac611",
        "colab": {
          "base_uri": "https://localhost:8080/"
        }
      },
      "source": [
        "myName = 'Abhishek'\n",
        "print('It is good to meet you, ' + myName)"
      ],
      "execution_count": 9,
      "outputs": [
        {
          "output_type": "stream",
          "name": "stdout",
          "text": [
            "It is good to meet you, Abhishek\n"
          ]
        }
      ]
    },
    {
      "cell_type": "code",
      "metadata": {
        "id": "gyjO2W5uUYUg",
        "outputId": "3d86299a-5400-4998-e583-0bed178db05e",
        "colab": {
          "base_uri": "https://localhost:8080/"
        }
      },
      "source": [
        "print(24)"
      ],
      "execution_count": 10,
      "outputs": [
        {
          "output_type": "stream",
          "name": "stdout",
          "text": [
            "24\n"
          ]
        }
      ]
    },
    {
      "cell_type": "code",
      "metadata": {
        "id": "wmKyHdtiVvEG",
        "outputId": "b0ab1f9d-e6e7-418a-f5b2-53fee81048a5",
        "colab": {
          "base_uri": "https://localhost:8080/"
        }
      },
      "source": [
        "spam = input()\n",
        "spam = int(spam)\n",
        "spam"
      ],
      "execution_count": 13,
      "outputs": [
        {
          "name": "stdout",
          "output_type": "stream",
          "text": [
            "111\n"
          ]
        },
        {
          "output_type": "execute_result",
          "data": {
            "text/plain": [
              "111"
            ]
          },
          "metadata": {},
          "execution_count": 13
        }
      ]
    },
    {
      "cell_type": "code",
      "metadata": {
        "id": "fwmhF0NEW36_",
        "outputId": "9edb71a8-e972-431a-c381-6c3a54a4348c",
        "colab": {
          "base_uri": "https://localhost:8080/"
        }
      },
      "source": [
        "34 == '34'"
      ],
      "execution_count": 14,
      "outputs": [
        {
          "output_type": "execute_result",
          "data": {
            "text/plain": [
              "False"
            ]
          },
          "metadata": {},
          "execution_count": 14
        }
      ]
    },
    {
      "cell_type": "code",
      "metadata": {
        "id": "4kDZGm7ebxkP",
        "outputId": "27fa0f10-04ad-47ef-be80-7583ab5df75c",
        "colab": {
          "base_uri": "https://localhost:8080/"
        }
      },
      "source": [
        "34 == 34.000"
      ],
      "execution_count": 15,
      "outputs": [
        {
          "output_type": "execute_result",
          "data": {
            "text/plain": [
              "True"
            ]
          },
          "metadata": {},
          "execution_count": 15
        }
      ]
    },
    {
      "cell_type": "code",
      "metadata": {
        "id": "SQD8dvKYb064",
        "outputId": "8ab760b0-bfb8-4c76-fdcf-3352a5eded4e",
        "colab": {
          "base_uri": "https://localhost:8080/"
        }
      },
      "source": [
        "34 == 00034.000"
      ],
      "execution_count": 16,
      "outputs": [
        {
          "output_type": "execute_result",
          "data": {
            "text/plain": [
              "True"
            ]
          },
          "metadata": {},
          "execution_count": 16
        }
      ]
    },
    {
      "cell_type": "code",
      "metadata": {
        "id": "Il1FjiW-b4rJ",
        "outputId": "fd46fa66-47b4-452a-9023-786a02f6e31c",
        "colab": {
          "base_uri": "https://localhost:8080/"
        }
      },
      "source": [
        "print(\"You will be \" + str(int(input(\"Enter Your Age: \"))+1) + \" Year old.\")"
      ],
      "execution_count": 19,
      "outputs": [
        {
          "output_type": "stream",
          "name": "stdout",
          "text": [
            "Enter Your Age: 23\n",
            "You will be 24 Year old.\n"
          ]
        }
      ]
    },
    {
      "cell_type": "code",
      "metadata": {
        "id": "t3xtmfADdwBm"
      },
      "source": [
        ""
      ],
      "execution_count": null,
      "outputs": []
    }
  ]
}